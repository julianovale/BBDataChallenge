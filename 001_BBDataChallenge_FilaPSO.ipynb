{
  "nbformat": 4,
  "nbformat_minor": 0,
  "metadata": {
    "colab": {
      "name": "001_BBDataChallenge_FilaPSO.ipynb",
      "provenance": [],
      "collapsed_sections": [],
      "authorship_tag": "ABX9TyNFN3kzYFG8uPorK8xATrx3",
      "include_colab_link": true
    },
    "kernelspec": {
      "name": "python3",
      "display_name": "Python 3"
    },
    "language_info": {
      "name": "python"
    }
  },
  "cells": [
    {
      "cell_type": "markdown",
      "metadata": {
        "id": "view-in-github",
        "colab_type": "text"
      },
      "source": [
        "<a href=\"https://colab.research.google.com/github/julianovale/BBDataChallenge/blob/main/001_BBDataChallenge_FilaPSO.ipynb\" target=\"_parent\"><img src=\"https://colab.research.google.com/assets/colab-badge.svg\" alt=\"Open In Colab\"/></a>"
      ]
    },
    {
      "cell_type": "code",
      "metadata": {
        "id": "K3PJ-VMhuoSY"
      },
      "source": [
        "import pandas as pd\n",
        "import datetime\n",
        "import matplotlib.pyplot as plt"
      ],
      "execution_count": null,
      "outputs": []
    },
    {
      "cell_type": "code",
      "metadata": {
        "colab": {
          "base_uri": "https://localhost:8080/",
          "height": 202
        },
        "id": "aADnw2YTufDp",
        "outputId": "1a2fa9ce-6d1a-4eed-9cd3-98cea8e29e55"
      },
      "source": [
        "dados = 'https://raw.githubusercontent.com/julianovale/BBDataChallenge/main/FilasCaixaPSO/Dados/Dataset_publico.csv'\n",
        "df = pd.read_csv(dados, sep=';')\n",
        "df.head()"
      ],
      "execution_count": null,
      "outputs": [
        {
          "output_type": "execute_result",
          "data": {
            "text/html": [
              "<div>\n",
              "<style scoped>\n",
              "    .dataframe tbody tr th:only-of-type {\n",
              "        vertical-align: middle;\n",
              "    }\n",
              "\n",
              "    .dataframe tbody tr th {\n",
              "        vertical-align: top;\n",
              "    }\n",
              "\n",
              "    .dataframe thead th {\n",
              "        text-align: right;\n",
              "    }\n",
              "</style>\n",
              "<table border=\"1\" class=\"dataframe\">\n",
              "  <thead>\n",
              "    <tr style=\"text-align: right;\">\n",
              "      <th></th>\n",
              "      <th>ID</th>\n",
              "      <th>ID_UOR</th>\n",
              "      <th>TS_INC_EPR</th>\n",
              "      <th>TS_INC_CHMD</th>\n",
              "    </tr>\n",
              "  </thead>\n",
              "  <tbody>\n",
              "    <tr>\n",
              "      <th>0</th>\n",
              "      <td>0</td>\n",
              "      <td>0</td>\n",
              "      <td>2020-09-01 10:01:24</td>\n",
              "      <td>2020-09-01 10:02:13</td>\n",
              "    </tr>\n",
              "    <tr>\n",
              "      <th>1</th>\n",
              "      <td>1</td>\n",
              "      <td>0</td>\n",
              "      <td>2020-09-01 10:04:21</td>\n",
              "      <td>2020-09-01 10:22:01</td>\n",
              "    </tr>\n",
              "    <tr>\n",
              "      <th>2</th>\n",
              "      <td>2</td>\n",
              "      <td>0</td>\n",
              "      <td>2020-09-01 10:16:14</td>\n",
              "      <td>2020-09-01 10:25:06</td>\n",
              "    </tr>\n",
              "    <tr>\n",
              "      <th>3</th>\n",
              "      <td>3</td>\n",
              "      <td>0</td>\n",
              "      <td>2020-09-01 10:28:38</td>\n",
              "      <td>2020-09-01 10:28:40</td>\n",
              "    </tr>\n",
              "    <tr>\n",
              "      <th>4</th>\n",
              "      <td>4</td>\n",
              "      <td>0</td>\n",
              "      <td>2020-09-01 10:37:38</td>\n",
              "      <td>2020-09-01 10:37:41</td>\n",
              "    </tr>\n",
              "  </tbody>\n",
              "</table>\n",
              "</div>"
            ],
            "text/plain": [
              "   ID  ID_UOR           TS_INC_EPR          TS_INC_CHMD\n",
              "0   0       0  2020-09-01 10:01:24  2020-09-01 10:02:13\n",
              "1   1       0  2020-09-01 10:04:21  2020-09-01 10:22:01\n",
              "2   2       0  2020-09-01 10:16:14  2020-09-01 10:25:06\n",
              "3   3       0  2020-09-01 10:28:38  2020-09-01 10:28:40\n",
              "4   4       0  2020-09-01 10:37:38  2020-09-01 10:37:41"
            ]
          },
          "metadata": {},
          "execution_count": 2
        }
      ]
    },
    {
      "cell_type": "code",
      "metadata": {
        "colab": {
          "base_uri": "https://localhost:8080/"
        },
        "id": "aH3aq3j4uq8B",
        "outputId": "36a486d8-d3d7-4dc9-bb3a-8d156f281325"
      },
      "source": [
        "df.shape"
      ],
      "execution_count": null,
      "outputs": [
        {
          "output_type": "execute_result",
          "data": {
            "text/plain": [
              "(335612, 4)"
            ]
          },
          "metadata": {},
          "execution_count": 3
        }
      ]
    },
    {
      "cell_type": "code",
      "metadata": {
        "colab": {
          "base_uri": "https://localhost:8080/"
        },
        "id": "jAAf1sFnvOvt",
        "outputId": "9565c3c5-12bc-40dc-a229-8b2b49184f43"
      },
      "source": [
        "df.isna().sum()"
      ],
      "execution_count": null,
      "outputs": [
        {
          "output_type": "execute_result",
          "data": {
            "text/plain": [
              "ID               0\n",
              "ID_UOR           0\n",
              "TS_INC_EPR       0\n",
              "TS_INC_CHMD    184\n",
              "dtype: int64"
            ]
          },
          "metadata": {},
          "execution_count": 4
        }
      ]
    },
    {
      "cell_type": "code",
      "metadata": {
        "colab": {
          "base_uri": "https://localhost:8080/",
          "height": 415
        },
        "id": "R6sHZo7-v52R",
        "outputId": "fe30f723-a1a4-40ce-d128-248b870de002"
      },
      "source": [
        "df[df['TS_INC_CHMD'].isna()]"
      ],
      "execution_count": null,
      "outputs": [
        {
          "output_type": "execute_result",
          "data": {
            "text/html": [
              "<div>\n",
              "<style scoped>\n",
              "    .dataframe tbody tr th:only-of-type {\n",
              "        vertical-align: middle;\n",
              "    }\n",
              "\n",
              "    .dataframe tbody tr th {\n",
              "        vertical-align: top;\n",
              "    }\n",
              "\n",
              "    .dataframe thead th {\n",
              "        text-align: right;\n",
              "    }\n",
              "</style>\n",
              "<table border=\"1\" class=\"dataframe\">\n",
              "  <thead>\n",
              "    <tr style=\"text-align: right;\">\n",
              "      <th></th>\n",
              "      <th>ID</th>\n",
              "      <th>ID_UOR</th>\n",
              "      <th>TS_INC_EPR</th>\n",
              "      <th>TS_INC_CHMD</th>\n",
              "    </tr>\n",
              "  </thead>\n",
              "  <tbody>\n",
              "    <tr>\n",
              "      <th>10228</th>\n",
              "      <td>10228</td>\n",
              "      <td>0</td>\n",
              "      <td>2021-02-24 15:47:22</td>\n",
              "      <td>NaN</td>\n",
              "    </tr>\n",
              "    <tr>\n",
              "      <th>11844</th>\n",
              "      <td>11844</td>\n",
              "      <td>0</td>\n",
              "      <td>2021-03-24 15:28:14</td>\n",
              "      <td>NaN</td>\n",
              "    </tr>\n",
              "    <tr>\n",
              "      <th>19149</th>\n",
              "      <td>21141</td>\n",
              "      <td>1</td>\n",
              "      <td>2020-09-23 14:55:42</td>\n",
              "      <td>NaN</td>\n",
              "    </tr>\n",
              "    <tr>\n",
              "      <th>22495</th>\n",
              "      <td>24487</td>\n",
              "      <td>1</td>\n",
              "      <td>2020-11-12 15:00:58</td>\n",
              "      <td>NaN</td>\n",
              "    </tr>\n",
              "    <tr>\n",
              "      <th>27841</th>\n",
              "      <td>29833</td>\n",
              "      <td>1</td>\n",
              "      <td>2021-01-21 15:13:14</td>\n",
              "      <td>NaN</td>\n",
              "    </tr>\n",
              "    <tr>\n",
              "      <th>...</th>\n",
              "      <td>...</td>\n",
              "      <td>...</td>\n",
              "      <td>...</td>\n",
              "      <td>...</td>\n",
              "    </tr>\n",
              "    <tr>\n",
              "      <th>332793</th>\n",
              "      <td>373863</td>\n",
              "      <td>24</td>\n",
              "      <td>2021-01-06 13:45:31</td>\n",
              "      <td>NaN</td>\n",
              "    </tr>\n",
              "    <tr>\n",
              "      <th>332979</th>\n",
              "      <td>374049</td>\n",
              "      <td>24</td>\n",
              "      <td>2021-01-19 14:40:00</td>\n",
              "      <td>NaN</td>\n",
              "    </tr>\n",
              "    <tr>\n",
              "      <th>333768</th>\n",
              "      <td>374838</td>\n",
              "      <td>24</td>\n",
              "      <td>2021-03-18 15:06:22</td>\n",
              "      <td>NaN</td>\n",
              "    </tr>\n",
              "    <tr>\n",
              "      <th>334469</th>\n",
              "      <td>375539</td>\n",
              "      <td>24</td>\n",
              "      <td>2021-05-11 14:20:22</td>\n",
              "      <td>NaN</td>\n",
              "    </tr>\n",
              "    <tr>\n",
              "      <th>334470</th>\n",
              "      <td>375540</td>\n",
              "      <td>24</td>\n",
              "      <td>2021-05-11 14:45:39</td>\n",
              "      <td>NaN</td>\n",
              "    </tr>\n",
              "  </tbody>\n",
              "</table>\n",
              "<p>184 rows × 4 columns</p>\n",
              "</div>"
            ],
            "text/plain": [
              "            ID  ID_UOR           TS_INC_EPR TS_INC_CHMD\n",
              "10228    10228       0  2021-02-24 15:47:22         NaN\n",
              "11844    11844       0  2021-03-24 15:28:14         NaN\n",
              "19149    21141       1  2020-09-23 14:55:42         NaN\n",
              "22495    24487       1  2020-11-12 15:00:58         NaN\n",
              "27841    29833       1  2021-01-21 15:13:14         NaN\n",
              "...        ...     ...                  ...         ...\n",
              "332793  373863      24  2021-01-06 13:45:31         NaN\n",
              "332979  374049      24  2021-01-19 14:40:00         NaN\n",
              "333768  374838      24  2021-03-18 15:06:22         NaN\n",
              "334469  375539      24  2021-05-11 14:20:22         NaN\n",
              "334470  375540      24  2021-05-11 14:45:39         NaN\n",
              "\n",
              "[184 rows x 4 columns]"
            ]
          },
          "metadata": {},
          "execution_count": 5
        }
      ]
    },
    {
      "cell_type": "code",
      "metadata": {
        "id": "mctAzyfiwBIn"
      },
      "source": [
        "df.dropna(inplace=True)"
      ],
      "execution_count": null,
      "outputs": []
    },
    {
      "cell_type": "code",
      "metadata": {
        "colab": {
          "base_uri": "https://localhost:8080/"
        },
        "id": "z3kkh9sO1A0B",
        "outputId": "7287eea3-e12b-43fd-e7bc-ae965702bbd4"
      },
      "source": [
        "df.shape"
      ],
      "execution_count": null,
      "outputs": [
        {
          "output_type": "execute_result",
          "data": {
            "text/plain": [
              "(335428, 4)"
            ]
          },
          "metadata": {},
          "execution_count": 7
        }
      ]
    },
    {
      "cell_type": "code",
      "metadata": {
        "colab": {
          "base_uri": "https://localhost:8080/"
        },
        "id": "14W_3W8B1DJY",
        "outputId": "36440da9-010a-4861-8be1-e4bedb284146"
      },
      "source": [
        "df.isna().sum()"
      ],
      "execution_count": null,
      "outputs": [
        {
          "output_type": "execute_result",
          "data": {
            "text/plain": [
              "ID             0\n",
              "ID_UOR         0\n",
              "TS_INC_EPR     0\n",
              "TS_INC_CHMD    0\n",
              "dtype: int64"
            ]
          },
          "metadata": {},
          "execution_count": 8
        }
      ]
    },
    {
      "cell_type": "code",
      "metadata": {
        "colab": {
          "base_uri": "https://localhost:8080/"
        },
        "id": "s3uP5yxo1FkR",
        "outputId": "bd08453e-9bab-4e64-ed4e-23458a7acea6"
      },
      "source": [
        "df.dtypes"
      ],
      "execution_count": null,
      "outputs": [
        {
          "output_type": "execute_result",
          "data": {
            "text/plain": [
              "ID              int64\n",
              "ID_UOR          int64\n",
              "TS_INC_EPR     object\n",
              "TS_INC_CHMD    object\n",
              "dtype: object"
            ]
          },
          "metadata": {},
          "execution_count": 9
        }
      ]
    },
    {
      "cell_type": "code",
      "metadata": {
        "id": "mS4LHfFp1I4p"
      },
      "source": [
        "df['TS_INC_EPR'] = pd.to_datetime(df['TS_INC_EPR'])\n",
        "df['TS_INC_CHMD'] = pd.to_datetime(df['TS_INC_CHMD'])"
      ],
      "execution_count": null,
      "outputs": []
    },
    {
      "cell_type": "code",
      "metadata": {
        "colab": {
          "base_uri": "https://localhost:8080/"
        },
        "id": "Ndobqjel1Zb0",
        "outputId": "6ec18f48-2162-4968-9db3-a4456d4ca5c3"
      },
      "source": [
        "df.dtypes"
      ],
      "execution_count": null,
      "outputs": [
        {
          "output_type": "execute_result",
          "data": {
            "text/plain": [
              "ID                      int64\n",
              "ID_UOR                  int64\n",
              "TS_INC_EPR     datetime64[ns]\n",
              "TS_INC_CHMD    datetime64[ns]\n",
              "dtype: object"
            ]
          },
          "metadata": {},
          "execution_count": 11
        }
      ]
    },
    {
      "cell_type": "code",
      "metadata": {
        "colab": {
          "base_uri": "https://localhost:8080/",
          "height": 202
        },
        "id": "3UCnGXID1bHR",
        "outputId": "231c711a-4707-4e5f-eb50-97229232d410"
      },
      "source": [
        "df.head()"
      ],
      "execution_count": null,
      "outputs": [
        {
          "output_type": "execute_result",
          "data": {
            "text/html": [
              "<div>\n",
              "<style scoped>\n",
              "    .dataframe tbody tr th:only-of-type {\n",
              "        vertical-align: middle;\n",
              "    }\n",
              "\n",
              "    .dataframe tbody tr th {\n",
              "        vertical-align: top;\n",
              "    }\n",
              "\n",
              "    .dataframe thead th {\n",
              "        text-align: right;\n",
              "    }\n",
              "</style>\n",
              "<table border=\"1\" class=\"dataframe\">\n",
              "  <thead>\n",
              "    <tr style=\"text-align: right;\">\n",
              "      <th></th>\n",
              "      <th>ID</th>\n",
              "      <th>ID_UOR</th>\n",
              "      <th>TS_INC_EPR</th>\n",
              "      <th>TS_INC_CHMD</th>\n",
              "    </tr>\n",
              "  </thead>\n",
              "  <tbody>\n",
              "    <tr>\n",
              "      <th>0</th>\n",
              "      <td>0</td>\n",
              "      <td>0</td>\n",
              "      <td>2020-09-01 10:01:24</td>\n",
              "      <td>2020-09-01 10:02:13</td>\n",
              "    </tr>\n",
              "    <tr>\n",
              "      <th>1</th>\n",
              "      <td>1</td>\n",
              "      <td>0</td>\n",
              "      <td>2020-09-01 10:04:21</td>\n",
              "      <td>2020-09-01 10:22:01</td>\n",
              "    </tr>\n",
              "    <tr>\n",
              "      <th>2</th>\n",
              "      <td>2</td>\n",
              "      <td>0</td>\n",
              "      <td>2020-09-01 10:16:14</td>\n",
              "      <td>2020-09-01 10:25:06</td>\n",
              "    </tr>\n",
              "    <tr>\n",
              "      <th>3</th>\n",
              "      <td>3</td>\n",
              "      <td>0</td>\n",
              "      <td>2020-09-01 10:28:38</td>\n",
              "      <td>2020-09-01 10:28:40</td>\n",
              "    </tr>\n",
              "    <tr>\n",
              "      <th>4</th>\n",
              "      <td>4</td>\n",
              "      <td>0</td>\n",
              "      <td>2020-09-01 10:37:38</td>\n",
              "      <td>2020-09-01 10:37:41</td>\n",
              "    </tr>\n",
              "  </tbody>\n",
              "</table>\n",
              "</div>"
            ],
            "text/plain": [
              "   ID  ID_UOR          TS_INC_EPR         TS_INC_CHMD\n",
              "0   0       0 2020-09-01 10:01:24 2020-09-01 10:02:13\n",
              "1   1       0 2020-09-01 10:04:21 2020-09-01 10:22:01\n",
              "2   2       0 2020-09-01 10:16:14 2020-09-01 10:25:06\n",
              "3   3       0 2020-09-01 10:28:38 2020-09-01 10:28:40\n",
              "4   4       0 2020-09-01 10:37:38 2020-09-01 10:37:41"
            ]
          },
          "metadata": {},
          "execution_count": 12
        }
      ]
    },
    {
      "cell_type": "code",
      "metadata": {
        "id": "FdnxWWQ-Eh3X"
      },
      "source": [
        "df['DELTA_T'] = df['TS_INC_CHMD'] - df['TS_INC_EPR']\n",
        "df['DELTA_T'] = [d.total_seconds() for d in df['DELTA_T']]"
      ],
      "execution_count": null,
      "outputs": []
    },
    {
      "cell_type": "code",
      "metadata": {
        "colab": {
          "base_uri": "https://localhost:8080/",
          "height": 415
        },
        "id": "YL7-A5bn1lqv",
        "outputId": "07e60719-947a-4722-af11-25d75f057c60"
      },
      "source": [
        "df['DT'] = [d.date() for d in df['TS_INC_EPR']]\n",
        "df['DIA_SEMANA'] = [d.isoweekday() for d in df['DT']]\n",
        "df['HH_SENHA'] = [d.time() for d in df['TS_INC_EPR']]\n",
        "df['HH'] = df['TS_INC_EPR'].dt.hour\n",
        "df['HH_ATEND'] = [d.time() for d in df['TS_INC_CHMD']]\n",
        "df['DIA'] = [d.day for d in df['TS_INC_EPR']]\n",
        "df.drop(['TS_INC_EPR','TS_INC_CHMD'], inplace=True, axis=1)\n",
        "df['MAIOR'] = df['DELTA_T'] > 900 # 15 minutos\n",
        "df['PICO'] = df['DIA'] <= 10 # dia de pico\n",
        "df"
      ],
      "execution_count": null,
      "outputs": [
        {
          "output_type": "execute_result",
          "data": {
            "text/html": [
              "<div>\n",
              "<style scoped>\n",
              "    .dataframe tbody tr th:only-of-type {\n",
              "        vertical-align: middle;\n",
              "    }\n",
              "\n",
              "    .dataframe tbody tr th {\n",
              "        vertical-align: top;\n",
              "    }\n",
              "\n",
              "    .dataframe thead th {\n",
              "        text-align: right;\n",
              "    }\n",
              "</style>\n",
              "<table border=\"1\" class=\"dataframe\">\n",
              "  <thead>\n",
              "    <tr style=\"text-align: right;\">\n",
              "      <th></th>\n",
              "      <th>ID</th>\n",
              "      <th>ID_UOR</th>\n",
              "      <th>DELTA_T</th>\n",
              "      <th>DT</th>\n",
              "      <th>DIA_SEMANA</th>\n",
              "      <th>HH_SENHA</th>\n",
              "      <th>HH</th>\n",
              "      <th>HH_ATEND</th>\n",
              "      <th>DIA</th>\n",
              "      <th>MAIOR</th>\n",
              "      <th>PICO</th>\n",
              "    </tr>\n",
              "  </thead>\n",
              "  <tbody>\n",
              "    <tr>\n",
              "      <th>0</th>\n",
              "      <td>0</td>\n",
              "      <td>0</td>\n",
              "      <td>49.0</td>\n",
              "      <td>2020-09-01</td>\n",
              "      <td>2</td>\n",
              "      <td>10:01:24</td>\n",
              "      <td>10</td>\n",
              "      <td>10:02:13</td>\n",
              "      <td>1</td>\n",
              "      <td>False</td>\n",
              "      <td>True</td>\n",
              "    </tr>\n",
              "    <tr>\n",
              "      <th>1</th>\n",
              "      <td>1</td>\n",
              "      <td>0</td>\n",
              "      <td>1060.0</td>\n",
              "      <td>2020-09-01</td>\n",
              "      <td>2</td>\n",
              "      <td>10:04:21</td>\n",
              "      <td>10</td>\n",
              "      <td>10:22:01</td>\n",
              "      <td>1</td>\n",
              "      <td>True</td>\n",
              "      <td>True</td>\n",
              "    </tr>\n",
              "    <tr>\n",
              "      <th>2</th>\n",
              "      <td>2</td>\n",
              "      <td>0</td>\n",
              "      <td>532.0</td>\n",
              "      <td>2020-09-01</td>\n",
              "      <td>2</td>\n",
              "      <td>10:16:14</td>\n",
              "      <td>10</td>\n",
              "      <td>10:25:06</td>\n",
              "      <td>1</td>\n",
              "      <td>False</td>\n",
              "      <td>True</td>\n",
              "    </tr>\n",
              "    <tr>\n",
              "      <th>3</th>\n",
              "      <td>3</td>\n",
              "      <td>0</td>\n",
              "      <td>2.0</td>\n",
              "      <td>2020-09-01</td>\n",
              "      <td>2</td>\n",
              "      <td>10:28:38</td>\n",
              "      <td>10</td>\n",
              "      <td>10:28:40</td>\n",
              "      <td>1</td>\n",
              "      <td>False</td>\n",
              "      <td>True</td>\n",
              "    </tr>\n",
              "    <tr>\n",
              "      <th>4</th>\n",
              "      <td>4</td>\n",
              "      <td>0</td>\n",
              "      <td>3.0</td>\n",
              "      <td>2020-09-01</td>\n",
              "      <td>2</td>\n",
              "      <td>10:37:38</td>\n",
              "      <td>10</td>\n",
              "      <td>10:37:41</td>\n",
              "      <td>1</td>\n",
              "      <td>False</td>\n",
              "      <td>True</td>\n",
              "    </tr>\n",
              "    <tr>\n",
              "      <th>...</th>\n",
              "      <td>...</td>\n",
              "      <td>...</td>\n",
              "      <td>...</td>\n",
              "      <td>...</td>\n",
              "      <td>...</td>\n",
              "      <td>...</td>\n",
              "      <td>...</td>\n",
              "      <td>...</td>\n",
              "      <td>...</td>\n",
              "      <td>...</td>\n",
              "      <td>...</td>\n",
              "    </tr>\n",
              "    <tr>\n",
              "      <th>335607</th>\n",
              "      <td>376677</td>\n",
              "      <td>24</td>\n",
              "      <td>39.0</td>\n",
              "      <td>2021-07-30</td>\n",
              "      <td>5</td>\n",
              "      <td>13:05:56</td>\n",
              "      <td>13</td>\n",
              "      <td>13:06:35</td>\n",
              "      <td>30</td>\n",
              "      <td>False</td>\n",
              "      <td>False</td>\n",
              "    </tr>\n",
              "    <tr>\n",
              "      <th>335608</th>\n",
              "      <td>376678</td>\n",
              "      <td>24</td>\n",
              "      <td>224.0</td>\n",
              "      <td>2021-07-30</td>\n",
              "      <td>5</td>\n",
              "      <td>13:12:09</td>\n",
              "      <td>13</td>\n",
              "      <td>13:15:53</td>\n",
              "      <td>30</td>\n",
              "      <td>False</td>\n",
              "      <td>False</td>\n",
              "    </tr>\n",
              "    <tr>\n",
              "      <th>335609</th>\n",
              "      <td>376679</td>\n",
              "      <td>24</td>\n",
              "      <td>23.0</td>\n",
              "      <td>2021-07-30</td>\n",
              "      <td>5</td>\n",
              "      <td>13:17:08</td>\n",
              "      <td>13</td>\n",
              "      <td>13:17:31</td>\n",
              "      <td>30</td>\n",
              "      <td>False</td>\n",
              "      <td>False</td>\n",
              "    </tr>\n",
              "    <tr>\n",
              "      <th>335610</th>\n",
              "      <td>376680</td>\n",
              "      <td>24</td>\n",
              "      <td>14.0</td>\n",
              "      <td>2021-07-30</td>\n",
              "      <td>5</td>\n",
              "      <td>13:27:15</td>\n",
              "      <td>13</td>\n",
              "      <td>13:27:29</td>\n",
              "      <td>30</td>\n",
              "      <td>False</td>\n",
              "      <td>False</td>\n",
              "    </tr>\n",
              "    <tr>\n",
              "      <th>335611</th>\n",
              "      <td>376681</td>\n",
              "      <td>24</td>\n",
              "      <td>248.0</td>\n",
              "      <td>2021-07-30</td>\n",
              "      <td>5</td>\n",
              "      <td>13:30:20</td>\n",
              "      <td>13</td>\n",
              "      <td>13:34:28</td>\n",
              "      <td>30</td>\n",
              "      <td>False</td>\n",
              "      <td>False</td>\n",
              "    </tr>\n",
              "  </tbody>\n",
              "</table>\n",
              "<p>335428 rows × 11 columns</p>\n",
              "</div>"
            ],
            "text/plain": [
              "            ID  ID_UOR  DELTA_T          DT  ...  HH_ATEND DIA  MAIOR   PICO\n",
              "0            0       0     49.0  2020-09-01  ...  10:02:13   1  False   True\n",
              "1            1       0   1060.0  2020-09-01  ...  10:22:01   1   True   True\n",
              "2            2       0    532.0  2020-09-01  ...  10:25:06   1  False   True\n",
              "3            3       0      2.0  2020-09-01  ...  10:28:40   1  False   True\n",
              "4            4       0      3.0  2020-09-01  ...  10:37:41   1  False   True\n",
              "...        ...     ...      ...         ...  ...       ...  ..    ...    ...\n",
              "335607  376677      24     39.0  2021-07-30  ...  13:06:35  30  False  False\n",
              "335608  376678      24    224.0  2021-07-30  ...  13:15:53  30  False  False\n",
              "335609  376679      24     23.0  2021-07-30  ...  13:17:31  30  False  False\n",
              "335610  376680      24     14.0  2021-07-30  ...  13:27:29  30  False  False\n",
              "335611  376681      24    248.0  2021-07-30  ...  13:34:28  30  False  False\n",
              "\n",
              "[335428 rows x 11 columns]"
            ]
          },
          "metadata": {},
          "execution_count": 14
        }
      ]
    },
    {
      "cell_type": "code",
      "metadata": {
        "colab": {
          "base_uri": "https://localhost:8080/",
          "height": 299
        },
        "id": "BbsB5egFsoL3",
        "outputId": "bbe362b7-1562-452c-94e8-2eeff0a03b75"
      },
      "source": [
        "df.groupby(['HH']).HH.count().plot(kind='bar')"
      ],
      "execution_count": null,
      "outputs": [
        {
          "output_type": "execute_result",
          "data": {
            "text/plain": [
              "<matplotlib.axes._subplots.AxesSubplot at 0x7fb506e05850>"
            ]
          },
          "metadata": {},
          "execution_count": 15
        },
        {
          "output_type": "display_data",
          "data": {
            "image/png": "[encoded data removed]",
            "text/plain": [
              "<Figure size 432x288 with 1 Axes>"
            ]
          },
          "metadata": {
            "needs_background": "light"
          }
        }
      ]
    },
    {
      "cell_type": "code",
      "metadata": {
        "id": "yMlTXLEx3T13"
      },
      "source": [
        "df.loc[(df['HH']<10)]=10\n",
        "df.loc[(df['HH']>14)]=14"
      ],
      "execution_count": null,
      "outputs": []
    },
    {
      "cell_type": "code",
      "metadata": {
        "colab": {
          "base_uri": "https://localhost:8080/",
          "height": 299
        },
        "id": "IJDFU1eJzmjj",
        "outputId": "a7917cc1-ac5a-44c5-d9f5-a27724c7675d"
      },
      "source": [
        "df.groupby(['HH']).HH.count().plot(kind='bar')"
      ],
      "execution_count": null,
      "outputs": [
        {
          "output_type": "execute_result",
          "data": {
            "text/plain": [
              "<matplotlib.axes._subplots.AxesSubplot at 0x7fb4fb28e350>"
            ]
          },
          "metadata": {},
          "execution_count": 17
        },
        {
          "output_type": "display_data",
          "data": {
            "image/png": "[encoded data removed]",
            "text/plain": [
              "<Figure size 432x288 with 1 Axes>"
            ]
          },
          "metadata": {
            "needs_background": "light"
          }
        }
      ]
    },
    {
      "cell_type": "markdown",
      "metadata": {
        "id": "HeROnC1IrAnr"
      },
      "source": [
        "https://www.geeksforgeeks.org/ml-one-hot-encoding-of-datasets-in-python/"
      ]
    }
  ]
}